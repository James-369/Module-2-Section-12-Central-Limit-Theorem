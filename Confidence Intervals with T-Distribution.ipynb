{
  "cells": [
    {
      "metadata": {
        "trusted": true
      },
      "cell_type": "code",
      "source": "import numpy as np",
      "execution_count": 1,
      "outputs": []
    },
    {
      "metadata": {
        "trusted": true
      },
      "cell_type": "code",
      "source": "sample_chol_levels = [66.0, 36.0, 73.0, 48.0, 81.0, 69.0, 75.0, 81.0, 73.0,\n                      69.0, 101.0, 70.0, 50.0, 42.0, 36.0, 71.0, 65.0, 43.0, 76.0, 24.0]",
      "execution_count": 2,
      "outputs": []
    },
    {
      "metadata": {
        "trusted": true
      },
      "cell_type": "code",
      "source": "x_bar = np.mean(sample_chol_levels)\ns = np.std(sample_chol_levels, ddof = 1)\nprint(x_bar, s)\n",
      "execution_count": 3,
      "outputs": [
        {
          "output_type": "stream",
          "text": "62.45 19.209304214912432\n",
          "name": "stdout"
        }
      ]
    },
    {
      "metadata": {
        "trusted": true
      },
      "cell_type": "code",
      "source": "import scipy.stats as stats \n",
      "execution_count": 4,
      "outputs": []
    },
    {
      "metadata": {
        "trusted": true
      },
      "cell_type": "code",
      "source": "stats.t.interval(alpha = 0.95,\n                df = len(sample_chol_levels) -1,\n                 loc = x_bar,\n                 scale = s\n                )",
      "execution_count": 6,
      "outputs": [
        {
          "output_type": "execute_result",
          "execution_count": 6,
          "data": {
            "text/plain": "(22.244464209742247, 102.65553579025776)"
          },
          "metadata": {}
        }
      ]
    },
    {
      "metadata": {
        "trusted": true
      },
      "cell_type": "code",
      "source": "sample_chol_levels = np.random.normal(loc = 54, scale = 17, size = 10000)\n",
      "execution_count": 7,
      "outputs": []
    },
    {
      "metadata": {
        "trusted": true
      },
      "cell_type": "code",
      "source": "x_bar = np.mean(sample_chol_levels)\ns = np.std(sample_chol_levels, ddof = 1)\nprint(\"Sample Mean : \", x_bar)\nprint(\"Sample Standard Deviation : \", s)\n",
      "execution_count": 8,
      "outputs": [
        {
          "output_type": "stream",
          "text": "Sample Mean :  53.751908229444105\nSample Standard Deviation :  16.96395637664712\n",
          "name": "stdout"
        }
      ]
    },
    {
      "metadata": {
        "trusted": true
      },
      "cell_type": "code",
      "source": "# Min and Max of Confidence Interval \nstats.t.interval(alpha = 0.95,\n                df = len(sample_chol_levels) - 1,\n                loc = x_bar,\n                scale = s)",
      "execution_count": 9,
      "outputs": [
        {
          "output_type": "execute_result",
          "execution_count": 9,
          "data": {
            "text/plain": "(20.49913950392284, 87.00467695496536)"
          },
          "metadata": {}
        }
      ]
    },
    {
      "metadata": {
        "trusted": true
      },
      "cell_type": "code",
      "source": "",
      "execution_count": null,
      "outputs": []
    }
  ],
  "metadata": {
    "kernelspec": {
      "name": "python36",
      "display_name": "Python 3.6",
      "language": "python"
    },
    "language_info": {
      "mimetype": "text/x-python",
      "nbconvert_exporter": "python",
      "name": "python",
      "pygments_lexer": "ipython3",
      "version": "3.6.6",
      "file_extension": ".py",
      "codemirror_mode": {
        "version": 3,
        "name": "ipython"
      }
    }
  },
  "nbformat": 4,
  "nbformat_minor": 2
}